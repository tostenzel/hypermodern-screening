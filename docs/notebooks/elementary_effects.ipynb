{
 "cells": [
  {
   "cell_type": "code",
   "execution_count": 1,
   "metadata": {},
   "outputs": [],
   "source": [
    "import hypermodern_screening as hms\n",
    "import numpy as np"
   ]
  },
  {
   "cell_type": "code",
   "execution_count": 2,
   "metadata": {},
   "outputs": [],
   "source": [
    "def linear_function(a, b, c, *args):\n",
    "    \"\"\"Easy to analyze QoI as function of input pars.\n",
    "    \n",
    "    Notes\n",
    "    -----\n",
    "    Taken from Ge and Menendez (2017).\n",
    "\n",
    "    \"\"\"\n",
    "    return a + b + c\n",
    "\n",
    "# Expectation of input pars.\n",
    "mu = np.array([0, 0, 0])\n",
    "\n",
    "# Covariance matrix if input pars.\n",
    "cov = np.array(\n",
    "    [\n",
    "        [1.0, 0.9, 0.4],\n",
    "        [0.9, 1.0, 0.01],\n",
    "        [0.4, 0.01, 1.0],\n",
    "    ]\n",
    ")"
   ]
  },
  {
   "cell_type": "code",
   "execution_count": 3,
   "metadata": {},
   "outputs": [],
   "source": [
    "# Number of input parameters and input samples.\n",
    "n_inputs = 3\n",
    "n_sample = 1_000\n",
    "\n",
    "traj_list, step_list = hms.radial_sample(n_sample, n_inputs, normal=True)\n",
    "\n",
    "# Trajectory-specific paramters.\n",
    "#seed = 2020\n",
    "#n_levels = 10\n",
    "#n_inputs = 3\n",
    "\n",
    "#traj_list, step_list = trajectory_sample(n_sample, n_inputs, n_levels, seed, True, numeric_zero)"
   ]
  },
  {
   "cell_type": "code",
   "execution_count": 4,
   "metadata": {},
   "outputs": [],
   "source": [
    "# Mean absolute,mean and standard deviation of uncorrelated and correlated Elementary Effects.\n",
    "measures_list, _ = hms.screening_measures(linear_function, traj_list, step_list, cov, mu, radial = True)"
   ]
  },
  {
   "cell_type": "code",
   "execution_count": 5,
   "metadata": {},
   "outputs": [],
   "source": [
    "ee_uncorr = measures_list[0]\n",
    "ee_corr = measures_list[1]\n",
    "abs_ee_uncorr = measures_list[2]\n",
    "abs_ee_corr = measures_list[3]\n",
    "sd_ee_uncorr = measures_list[4]\n",
    "sd_ee_corr = measures_list[5]"
   ]
  },
  {
   "cell_type": "code",
   "execution_count": 6,
   "metadata": {},
   "outputs": [
    {
     "data": {
      "text/plain": [
       "array([[1.],\n",
       "       [1.],\n",
       "       [1.]])"
      ]
     },
     "execution_count": 6,
     "metadata": {},
     "output_type": "execute_result"
    }
   ],
   "source": [
    "# Equals derivative of model wrt. parameter. \n",
    "ee_uncorr"
   ]
  },
  {
   "cell_type": "code",
   "execution_count": 7,
   "metadata": {},
   "outputs": [
    {
     "data": {
      "text/plain": [
       "array([[2.3 ],\n",
       "       [1.91],\n",
       "       [1.41]])"
      ]
     },
     "execution_count": 7,
     "metadata": {},
     "output_type": "execute_result"
    }
   ],
   "source": [
    "# Equals derivative of model wrt. parameter plus correlation*derivation_wrt_other_parameter. \n",
    "ee_corr"
   ]
  },
  {
   "cell_type": "code",
   "execution_count": 8,
   "metadata": {},
   "outputs": [
    {
     "data": {
      "text/plain": [
       "array([[1.],\n",
       "       [1.],\n",
       "       [1.]])"
      ]
     },
     "execution_count": 8,
     "metadata": {},
     "output_type": "execute_result"
    }
   ],
   "source": [
    "abs_ee_uncorr"
   ]
  },
  {
   "cell_type": "code",
   "execution_count": 9,
   "metadata": {},
   "outputs": [
    {
     "data": {
      "text/plain": [
       "array([[2.3 ],\n",
       "       [1.91],\n",
       "       [1.41]])"
      ]
     },
     "execution_count": 9,
     "metadata": {},
     "output_type": "execute_result"
    }
   ],
   "source": [
    "abs_ee_corr"
   ]
  },
  {
   "cell_type": "code",
   "execution_count": 10,
   "metadata": {},
   "outputs": [
    {
     "data": {
      "text/plain": [
       "array([[1.10775559e-15],\n",
       "       [3.85349219e-14],\n",
       "       [6.24701493e-16]])"
      ]
     },
     "execution_count": 10,
     "metadata": {},
     "output_type": "execute_result"
    }
   ],
   "source": [
    "# Equals zero.\n",
    "sd_ee_uncorr"
   ]
  },
  {
   "cell_type": "code",
   "execution_count": 11,
   "metadata": {},
   "outputs": [
    {
     "data": {
      "text/plain": [
       "array([[3.49394083e-16],\n",
       "       [2.70719583e-14],\n",
       "       [5.36135424e-16]])"
      ]
     },
     "execution_count": 11,
     "metadata": {},
     "output_type": "execute_result"
    }
   ],
   "source": [
    "# Equals zero.\n",
    "sd_ee_corr"
   ]
  }
 ],
 "metadata": {
  "kernelspec": {
   "display_name": "Python 3",
   "language": "python",
   "name": "python3"
  },
  "language_info": {
   "codemirror_mode": {
    "name": "ipython",
    "version": 3
   },
   "file_extension": ".py",
   "mimetype": "text/x-python",
   "name": "python",
   "nbconvert_exporter": "python",
   "pygments_lexer": "ipython3",
   "version": "3.8.2"
  }
 },
 "nbformat": 4,
 "nbformat_minor": 4
}
