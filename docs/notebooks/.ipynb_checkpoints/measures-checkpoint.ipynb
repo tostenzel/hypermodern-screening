{
 "cells": [
  {
   "cell_type": "code",
   "execution_count": 1,
   "metadata": {},
   "outputs": [],
   "source": [
    "import hypermodern_screening as hms\n",
    "import numpy as np"
   ]
  },
  {
   "cell_type": "code",
   "execution_count": 2,
   "metadata": {},
   "outputs": [],
   "source": [
    "\"\"\"Example from Ge andMenendez (2017)\"\"\"\n",
    "\n",
    "def linear_function(a, b, c, *args):\n",
    "    return a + b + c\n",
    "\n",
    "\n",
    "mu = np.array([0, 0, 0])\n",
    "\n",
    "cov = np.array(\n",
    "    [\n",
    "        [1.0, 0.9, 0.4],\n",
    "        [0.9, 1.0, 0.01],\n",
    "        [0.4, 0.01, 1.0],\n",
    "    ]\n",
    ")"
   ]
  },
  {
   "cell_type": "code",
   "execution_count": 3,
   "metadata": {},
   "outputs": [
    {
     "ename": "AttributeError",
     "evalue": "module 'hypermodern_screening' has no attribute 'radial_sample'",
     "output_type": "error",
     "traceback": [
      "\u001b[0;31m---------------------------------------------------------------------------\u001b[0m",
      "\u001b[0;31mAttributeError\u001b[0m                            Traceback (most recent call last)",
      "\u001b[0;32m<ipython-input-3-093430610d47>\u001b[0m in \u001b[0;36m<module>\u001b[0;34m\u001b[0m\n\u001b[1;32m      9\u001b[0m \u001b[0;34m\u001b[0m\u001b[0m\n\u001b[1;32m     10\u001b[0m \u001b[0;31m#traj_list, step_list = trajectory_sample(n_sample, n_inputs, n_levels, seed, True, numeric_zero)\u001b[0m\u001b[0;34m\u001b[0m\u001b[0;34m\u001b[0m\u001b[0;34m\u001b[0m\u001b[0m\n\u001b[0;32m---> 11\u001b[0;31m \u001b[0mtraj_list\u001b[0m\u001b[0;34m,\u001b[0m \u001b[0mstep_list\u001b[0m \u001b[0;34m=\u001b[0m \u001b[0mhms\u001b[0m\u001b[0;34m.\u001b[0m\u001b[0mradial_sample\u001b[0m\u001b[0;34m(\u001b[0m\u001b[0mn_sample\u001b[0m\u001b[0;34m,\u001b[0m \u001b[0mn_inputs\u001b[0m\u001b[0;34m,\u001b[0m \u001b[0mnormal\u001b[0m\u001b[0;34m=\u001b[0m\u001b[0;32mTrue\u001b[0m\u001b[0;34m)\u001b[0m\u001b[0;34m\u001b[0m\u001b[0;34m\u001b[0m\u001b[0m\n\u001b[0m",
      "\u001b[0;31mAttributeError\u001b[0m: module 'hypermodern_screening' has no attribute 'radial_sample'"
     ]
    }
   ],
   "source": [
    "n_inputs = 3\n",
    "n_sample = 10_000\n",
    "\n",
    "# Trajectory-specific paramters.\n",
    "seed = 2020\n",
    "n_levels = 10\n",
    "n_inputs = 3\n",
    "\n",
    "\n",
    "#traj_list, step_list = trajectory_sample(n_sample, n_inputs, n_levels, seed, True, numeric_zero)\n",
    "traj_list, step_list = hms.radial_sample(n_sample, n_inputs, normal=True)"
   ]
  },
  {
   "cell_type": "code",
   "execution_count": 4,
   "metadata": {},
   "outputs": [
    {
     "ename": "AttributeError",
     "evalue": "module 'hypermodern_screening' has no attribute 'screening_measures'",
     "output_type": "error",
     "traceback": [
      "\u001b[0;31m---------------------------------------------------------------------------\u001b[0m",
      "\u001b[0;31mAttributeError\u001b[0m                            Traceback (most recent call last)",
      "\u001b[0;32m<ipython-input-4-ab24494892de>\u001b[0m in \u001b[0;36m<module>\u001b[0;34m\u001b[0m\n\u001b[0;32m----> 1\u001b[0;31m \u001b[0mmeasures_list\u001b[0m\u001b[0;34m,\u001b[0m \u001b[0m_\u001b[0m \u001b[0;34m=\u001b[0m \u001b[0mhms\u001b[0m\u001b[0;34m.\u001b[0m\u001b[0mscreening_measures\u001b[0m\u001b[0;34m(\u001b[0m\u001b[0mlinear_function\u001b[0m\u001b[0;34m,\u001b[0m \u001b[0mtraj_list\u001b[0m\u001b[0;34m,\u001b[0m \u001b[0mstep_list\u001b[0m\u001b[0;34m,\u001b[0m \u001b[0mcov\u001b[0m\u001b[0;34m,\u001b[0m \u001b[0mmu\u001b[0m\u001b[0;34m,\u001b[0m \u001b[0mradial\u001b[0m \u001b[0;34m=\u001b[0m \u001b[0;32mTrue\u001b[0m\u001b[0;34m)\u001b[0m\u001b[0;34m\u001b[0m\u001b[0;34m\u001b[0m\u001b[0m\n\u001b[0m",
      "\u001b[0;31mAttributeError\u001b[0m: module 'hypermodern_screening' has no attribute 'screening_measures'"
     ]
    }
   ],
   "source": [
    "measures_list, _ = hms.screening_measures(linear_function, traj_list, step_list, cov, mu, radial = True)"
   ]
  },
  {
   "cell_type": "code",
   "execution_count": 5,
   "metadata": {},
   "outputs": [],
   "source": [
    "ee_uncorr = measures_list[0]\n",
    "ee_corr = measures_list[1]\n",
    "abs_ee_uncorr = measures_list[2]\n",
    "abs_ee_corr = measures_list[3]\n",
    "sd_ee_uncorr = measures_list[4]\n",
    "sd_ee_corr = measures_list[5]"
   ]
  },
  {
   "cell_type": "code",
   "execution_count": 6,
   "metadata": {},
   "outputs": [
    {
     "data": {
      "text/plain": [
       "array([[1.],\n",
       "       [1.],\n",
       "       [1.]])"
      ]
     },
     "execution_count": 6,
     "metadata": {},
     "output_type": "execute_result"
    }
   ],
   "source": [
    "ee_uncorr"
   ]
  },
  {
   "cell_type": "code",
   "execution_count": 7,
   "metadata": {},
   "outputs": [
    {
     "data": {
      "text/plain": [
       "array([[2.3 ],\n",
       "       [1.91],\n",
       "       [1.41]])"
      ]
     },
     "execution_count": 7,
     "metadata": {},
     "output_type": "execute_result"
    }
   ],
   "source": [
    "ee_corr"
   ]
  },
  {
   "cell_type": "code",
   "execution_count": 8,
   "metadata": {},
   "outputs": [
    {
     "data": {
      "text/plain": [
       "array([[1.],\n",
       "       [1.],\n",
       "       [1.]])"
      ]
     },
     "execution_count": 8,
     "metadata": {},
     "output_type": "execute_result"
    }
   ],
   "source": [
    "abs_ee_uncorr"
   ]
  },
  {
   "cell_type": "code",
   "execution_count": 9,
   "metadata": {},
   "outputs": [
    {
     "data": {
      "text/plain": [
       "array([[2.3 ],\n",
       "       [1.91],\n",
       "       [1.41]])"
      ]
     },
     "execution_count": 9,
     "metadata": {},
     "output_type": "execute_result"
    }
   ],
   "source": [
    "abs_ee_corr"
   ]
  },
  {
   "cell_type": "code",
   "execution_count": 10,
   "metadata": {},
   "outputs": [
    {
     "data": {
      "text/plain": [
       "array([[1.06385727e-15],\n",
       "       [6.56421091e-14],\n",
       "       [6.79727643e-16]])"
      ]
     },
     "execution_count": 10,
     "metadata": {},
     "output_type": "execute_result"
    }
   ],
   "source": [
    "sd_ee_uncorr"
   ]
  },
  {
   "cell_type": "code",
   "execution_count": 11,
   "metadata": {},
   "outputs": [
    {
     "data": {
      "text/plain": [
       "array([[3.65477595e-16],\n",
       "       [6.32016163e-14],\n",
       "       [5.45258548e-16]])"
      ]
     },
     "execution_count": 11,
     "metadata": {},
     "output_type": "execute_result"
    }
   ],
   "source": [
    "sd_ee_corr"
   ]
  }
 ],
 "metadata": {
  "kernelspec": {
   "display_name": "Python 3",
   "language": "python",
   "name": "python3"
  },
  "language_info": {
   "codemirror_mode": {
    "name": "ipython",
    "version": 3
   },
   "file_extension": ".py",
   "mimetype": "text/x-python",
   "name": "python",
   "nbconvert_exporter": "python",
   "pygments_lexer": "ipython3",
   "version": "3.8.2"
  }
 },
 "nbformat": 4,
 "nbformat_minor": 4
}
