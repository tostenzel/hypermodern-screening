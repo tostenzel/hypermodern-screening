{
 "cells": [
  {
   "cell_type": "code",
   "execution_count": 1,
   "metadata": {},
   "outputs": [],
   "source": [
    "import itertools\n",
    "import time\n",
    "import matplotlib.pyplot as plt\n",
    "\n",
    "import hypermodern_screening as hms\n",
    "import numpy as np\n",
    "import pandas as pd"
   ]
  },
  {
   "cell_type": "code",
   "execution_count": 2,
   "metadata": {},
   "outputs": [],
   "source": [
    "def bar_plot(input_par_array):\n",
    "    \"\"\"Simple barplot for frequency of all distinct values in np.ndarry\"\"\"\n",
    "    new_list = input_par_array.reshape(-1, 1).tolist()\n",
    "    merged = pd.Series(itertools.chain.from_iterable(new_list))\n",
    "    vc = merged.value_counts().sort_index()\n",
    "    vc /= float(vc.sum())\n",
    "    assert vc.sum() > 0.999\n",
    "    ax = vc.plot(kind='bar')\n",
    "    fig = ax.get_figure()\n",
    "    fig.autofmt_xdate()"
   ]
  },
  {
   "cell_type": "code",
   "execution_count": 3,
   "metadata": {},
   "outputs": [],
   "source": [
    "\"\"\"Draw trajectories without optimization\"\"\"\n",
    "# Create list of n_traj_sample trajectories\n",
    "n_inputs = 4\n",
    "n_levels = 6\n",
    "n_traj_sample = 20\n",
    "sample_traj_list, _ = hms.trajectory_sample(n_traj_sample, n_inputs, n_levels)\n",
    "\n",
    "# Compute aggregate distance measure for sample of trajectories.\n",
    "simple_morris_sample = np.vstack(sample_traj_list)\n",
    "simple_pairs_dist_matrix = hms.distance_matrix(sample_traj_list)"
   ]
  },
  {
   "cell_type": "code",
   "execution_count": 4,
   "metadata": {},
   "outputs": [
    {
     "data": {
      "image/png": "[encoded data removed]",
      "text/plain": [
       "<Figure size 432x288 with 1 Axes>"
      ]
     },
     "metadata": {
      "needs_background": "light"
     },
     "output_type": "display_data"
    }
   ],
   "source": [
    "# Plot frequency of distinct values.\n",
    "# Monitor differences between distance optimization methods.\n",
    "bar_plot(simple_morris_sample)"
   ]
  },
  {
   "cell_type": "code",
   "execution_count": 5,
   "metadata": {},
   "outputs": [
    {
     "name": "stdout",
     "output_type": "stream",
     "text": [
      "0.998849630355835\n"
     ]
    },
    {
     "data": {
      "image/png": "[encoded data removed]",
      "text/plain": [
       "<Figure size 432x288 with 1 Axes>"
      ]
     },
     "metadata": {
      "needs_background": "light"
     },
     "output_type": "display_data"
    }
   ],
   "source": [
    "\"\"\"Draw trajectories with complete optimization from Ge and Menendez (2017)\"\"\"\n",
    "# Measure data generation time.\n",
    "# Monitor differences between generation times.\n",
    "start = time.time()\n",
    "\n",
    "final_ge_menendez_2014_list, final_gm14_pairs_dist_matrix, _ = hms.final_ge_menendez_2014(\n",
    "    sample_traj_list, n_traj=10\n",
    ")\n",
    "\n",
    "end = time.time()\n",
    "print(end - start)\n",
    "\n",
    "gm14_array = simple_morris_sample = np.vstack(sample_traj_list)\n",
    "bar_plot(gm14_array)"
   ]
  },
  {
   "cell_type": "code",
   "execution_count": 6,
   "metadata": {},
   "outputs": [
    {
     "name": "stdout",
     "output_type": "stream",
     "text": [
      "0.45121335983276367\n"
     ]
    },
    {
     "data": {
      "image/png": "[encoded data removed]",
      "text/plain": [
       "<Figure size 432x288 with 1 Axes>"
      ]
     },
     "metadata": {
      "needs_background": "light"
     },
     "output_type": "display_data"
    }
   ],
   "source": [
    "\"\"\"Draw trajectories with first step from optimization from Ge and Menendez (2017)\"\"\"\n",
    "# Measure data generation time.\n",
    "start = time.time()\n",
    "\n",
    "intermediate_ge_menendez_2014_list, intermediate_gm14_pairs_dist_matrix, _ = hms.intermediate_ge_menendez_2014(\n",
    "    sample_traj_list, n_traj=10\n",
    ")\n",
    "\n",
    "end = time.time()\n",
    "print(end - start)\n",
    "\n",
    "int_gm14_array = np.vstack(intermediate_ge_menendez_2014_list)\n",
    "bar_plot(int_gm14_array)"
   ]
  },
  {
   "cell_type": "code",
   "execution_count": 7,
   "metadata": {},
   "outputs": [
    {
     "name": "stdout",
     "output_type": "stream",
     "text": [
      "13.857566833496094\n"
     ]
    },
    {
     "data": {
      "image/png": "[encoded data removed]",
      "text/plain": [
       "<Figure size 432x288 with 1 Axes>"
      ]
     },
     "metadata": {
      "needs_background": "light"
     },
     "output_type": "display_data"
    }
   ],
   "source": [
    "\"\"\"Draw trajectories with complete optimization from Campolongo (2007)\"\"\"\n",
    "# Measure data generation time.\n",
    "start = time.time()\n",
    "\n",
    "campolongo_2007_list, c07_pairs_dist_matrix, _ = hms.campolongo_2007(\n",
    "    sample_traj_list, n_traj=10\n",
    ")\n",
    "\n",
    "end = time.time()\n",
    "print(end - start)\n",
    "\n",
    "c_array = np.vstack(campolongo_2007_list)\n",
    "bar_plot(c_array)"
   ]
  },
  {
   "cell_type": "code",
   "execution_count": 8,
   "metadata": {},
   "outputs": [
    {
     "name": "stdout",
     "output_type": "stream",
     "text": [
      "107.10803334984526 116.75470385038726 116.75470385038726 11.284810299069683\n"
     ]
    }
   ],
   "source": [
    "# Compute aggregate distance measure for sample of trajectories.\n",
    "# The first step in Ge and Menendez (2017) yields the best compromise between speed and distance.\n",
    "final_gm14_total_distance = hms.total_distance(final_gm14_pairs_dist_matrix)\n",
    "intermediate_gm14_total_distance = hms.total_distance(intermediate_gm14_pairs_dist_matrix)\n",
    "c07_gm14_total_distance = hms.total_distance(c07_pairs_dist_matrix)\n",
    "simple_total_distance = hms.total_distance(simple_pairs_dist_matrix)\n",
    "\n",
    "print(\n",
    "    final_gm14_total_distance,\n",
    "    intermediate_gm14_total_distance,\n",
    "    c07_gm14_total_distance,\n",
    "    simple_total_distance/20\n",
    ")"
   ]
  }
 ],
 "metadata": {
  "kernelspec": {
   "display_name": "Python 3",
   "language": "python",
   "name": "python3"
  },
  "language_info": {
   "codemirror_mode": {
    "name": "ipython",
    "version": 3
   },
   "file_extension": ".py",
   "mimetype": "text/x-python",
   "name": "python",
   "nbconvert_exporter": "python",
   "pygments_lexer": "ipython3",
   "version": "3.8.2"
  }
 },
 "nbformat": 4,
 "nbformat_minor": 4
}
